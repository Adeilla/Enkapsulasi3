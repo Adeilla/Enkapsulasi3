{
  "nbformat": 4,
  "nbformat_minor": 0,
  "metadata": {
    "colab": {
      "provenance": [],
      "authorship_tag": "ABX9TyMUP1AKBJotd0R44FPxGg/2",
      "include_colab_link": true
    },
    "kernelspec": {
      "name": "python3",
      "display_name": "Python 3"
    },
    "language_info": {
      "name": "python"
    }
  },
  "cells": [
    {
      "cell_type": "markdown",
      "metadata": {
        "id": "view-in-github",
        "colab_type": "text"
      },
      "source": [
        "<a href=\"https://colab.research.google.com/github/Adeilla/Enkapsulasi3/blob/main/Copy_of_Enkapsulasi3.ipynb\" target=\"_parent\"><img src=\"https://colab.research.google.com/assets/colab-badge.svg\" alt=\"Open In Colab\"/></a>"
      ]
    },
    {
      "cell_type": "code",
      "execution_count": 2,
      "metadata": {
        "id": "bQxJOnHKNQ6A"
      },
      "outputs": [],
      "source": [
        "class RekeningBank:\n",
        "  def __init__(self, nama_pemilik, saldo):\n",
        "    self.__nama_pemilik = nama_pemilik\n",
        "    self.__saldo = saldo\n",
        "\n",
        "  def set_saldo(self, saldo):\n",
        "    self.__saldo = saldo\n",
        "  def get_saldo(self):\n",
        "    return self.__saldo\n",
        "\n",
        "  def set_nama_pemilik(self, nama_pemilik):\n",
        "    self.__nama_pemilik = nama_pemilik\n",
        "  def get_nama_pemilik(self):\n",
        "    return self.__nama_pemilik\n",
        "\n",
        "  def setormoney(self, jumlahsetor):\n",
        "    self.__saldo += jumlahsetor\n",
        "    print(\"jumlah saldo anda Rp.\", self.__saldo)\n",
        "\n",
        "  def tarikmoney(self, jumlahtarik):\n",
        "    if self.__saldo > jumlahtarik :\n",
        "       print(\"sisa saldo anda Rp.\", self.__saldo - jumlahtarik)\n",
        "    else:\n",
        "       print(\"saldo tidak cukup\")"
      ]
    },
    {
      "cell_type": "code",
      "source": [
        "BRI = RekeningBank(\"illa\",1000000)\n",
        "BRI.setormoney(400000)\n",
        "BRI.tarikmoney(10000)\n",
        "\n",
        "print(\"pemilik rekening bank ini adalah\", BRI.get_nama_pemilik())\n"
      ],
      "metadata": {
        "colab": {
          "base_uri": "https://localhost:8080/"
        },
        "id": "9rEub17wOiPF",
        "outputId": "f86b938d-7b9c-45f8-97b7-3da18bb9cdaa"
      },
      "execution_count": 5,
      "outputs": [
        {
          "output_type": "stream",
          "name": "stdout",
          "text": [
            "jumlah saldo anda Rp. 1400000\n",
            "sisa saldo anda Rp. 1390000\n",
            "pemilik rekening bank ini adalah illa\n"
          ]
        }
      ]
    },
    {
      "cell_type": "code",
      "source": [],
      "metadata": {
        "id": "dqia7aIo8kN_"
      },
      "execution_count": null,
      "outputs": []
    }
  ]
}